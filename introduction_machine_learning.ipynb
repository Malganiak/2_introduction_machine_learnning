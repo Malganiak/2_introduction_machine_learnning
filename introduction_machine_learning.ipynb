{
 "cells": [
  {
   "cell_type": "markdown",
   "id": "3f865c46-36a9-4fe7-b2a3-ec77283468f0",
   "metadata": {},
   "source": [
    "# Introduction_machine_learning"
   ]
  },
  {
   "cell_type": "markdown",
   "id": "2c85073a",
   "metadata": {},
   "source": [
    "Contexte du projet :\n",
    "\n",
    "En tant que data scientist, avant de commencer un projet sur un sujet précis, une bonne pratique consiste à faire une veille technique afin d'identifier toutes les méthodes à tester. Connaître l'état de l'art avant de se lancer permet de gagner du temps, notamment en évitant de \"réinventer la roue\"\n",
    "\n",
    "​\n",
    "\n",
    "Le machine learning est le domaine de l'IA qui trouve le plus d'applications aujourd'hui.\n",
    "\n",
    "​\n",
    "\n",
    "Vous allez découvrir le machine learning en réalisant des recherches et en proposant un notebook ou le machine learning est appliqué sur un cas simple.\n",
    "\n",
    "\n",
    "Voici une liste des notions à voir et à restituer :\n",
    "\n",
    "différence entre le machine learning et le deep learning\n",
    "\n",
    "Le reinforcement learning (RL, dit essai/erreur)\n",
    "\n",
    "modèle\n",
    "\n",
    "supervisé vs non supervisé\n",
    "\n",
    "régression vs classification\n",
    "\n",
    "le sur apprentissage et le sous apprentissage\n",
    "\n",
    "le compromis biais/variance\n",
    "\n",
    "la notion de généralisation d’un modèle de machine learning\n",
    "\n",
    "la fonction coût\n",
    "\n",
    "le scoring des modèles / les métirques\n",
    "\n",
    "la standardisation des données\n",
    "\n",
    "jeu d'entrainement et jeu de test\n",
    "\n",
    "les hyperparamètres d'un modèle\n",
    "\n",
    "la crossvalidation\n",
    "\n",
    "gridsearchcv"
   ]
  },
  {
   "cell_type": "markdown",
   "id": "f3f282db-7a85-4ffc-8f56-03eceea09ea2",
   "metadata": {},
   "source": [
    "## Différence entre le machine learning et le deep learning\r",
    "Le machine learning est une approche basée sur des modèles statistiques, tandis que le deep learning utilise des réseaux de neurones profonds.\n",
    "\n"
   ]
  },
  {
   "cell_type": "markdown",
   "id": "ace83fb3-d449-4a33-a3ef-c775145b4be4",
   "metadata": {},
   "source": [
    "## Le reinforcement learning (RL, dit essai/erreur)\r",
    "RL est une approche où un agent apprend par essai-erreur en interagissant avec un environnement.\n",
    "\n"
   ]
  },
  {
   "cell_type": "markdown",
   "id": "3fbea74d-e35d-4317-8e0d-f01ba278e21d",
   "metadata": {},
   "source": [
    "## Modèle\r",
    "Un modèle est une représentation mathématique des relations entre les variables d'entrée et de sortie.\n",
    "\n"
   ]
  },
  {
   "cell_type": "markdown",
   "id": "3dbd0dab-a662-44ca-b218-14af9eff2084",
   "metadata": {},
   "source": [
    "## Supervisé vs Non supervisé\r",
    "Dans l'apprentissage supervisé, le modèle est formé sur un ensemble de données étiquetées, tandis que dans l'apprentissage non supervisé, le modèle explore des structures sans étiquettes.\n",
    "\n"
   ]
  },
  {
   "cell_type": "markdown",
   "id": "ec3f3fdd-1c00-4a5a-b8a1-3718b4c284d3",
   "metadata": {},
   "source": [
    "## Régression vs Classification\n",
    "La régression prédit une valeur continue, tandis que la classification prédit une classe."
   ]
  },
  {
   "cell_type": "markdown",
   "id": "f1bdff68-8105-4b8c-93b7-e65711074d0f",
   "metadata": {},
   "source": [
    "## Le surapprentissage et le sous-apprentissage\n",
    "Surapprentissage se produit lorsque le modèle s'adapte trop aux données d'entraînement, sous-apprentissage lorsque le modèle est trop simple pour capturer la structure des données."
   ]
  },
  {
   "cell_type": "markdown",
   "id": "0833e2ef-603d-4ec4-af14-ad35488d6a56",
   "metadata": {},
   "source": [
    "## Le compromis biais/variance\n",
    "Le compromis entre biais et variance vise à trouver un équilibre pour minimiser les erreurs de prédiction."
   ]
  },
  {
   "cell_type": "markdown",
   "id": "41140527-8ff8-4919-8337-7bf7388d549d",
   "metadata": {},
   "source": [
    "## La notion de généralisation d’un modèle de machine learning\n",
    "La généralisation se réfère à la capacité d'un modèle à bien fonctionner sur de nouvelles données non vues auparavant."
   ]
  },
  {
   "cell_type": "markdown",
   "id": "7f59ad80-19bf-4b03-b717-20c3c917335e",
   "metadata": {},
   "source": [
    "## La fonction coût\n",
    "La fonction coût mesure l'écart entre les prédictions du modèle et les vraies valeurs."
   ]
  },
  {
   "cell_type": "markdown",
   "id": "c7d8b107-c555-4f6c-bd0c-142b8feb8972",
   "metadata": {},
   "source": [
    "## Le scoring des modèles / les métriques\n",
    "Les métriques évaluent la performance du modèle, par exemple, la précision pour la classification ou l'erreur quadratique moyenne pour la régression."
   ]
  },
  {
   "cell_type": "markdown",
   "id": "a6a11803-f41d-4e7e-8af0-2531b2d1f0cb",
   "metadata": {},
   "source": [
    "## La standardisation des données\n",
    "La standardisation met les données à l'échelle pour faciliter l'apprentissage, en particulier pour les modèles sensibles à l'échelle.\n"
   ]
  },
  {
   "cell_type": "markdown",
   "id": "b07347f1-9eb1-49ec-bcb0-ec8f4abf0b2e",
   "metadata": {},
   "source": [
    "## Jeu d'entraînement et jeu de test\n",
    "Le jeu d'entraînement est utilisé pour former le modèle, et le jeu de test évalue la performance du modèle sur des données non vues."
   ]
  },
  {
   "cell_type": "markdown",
   "id": "fa0bbf18-357f-41b8-8813-a51424069ea4",
   "metadata": {},
   "source": [
    "## Les hyperparamètres d'un modèle\n",
    "Les hyperparamètres sont des paramètres du modèle qui ne sont pas appris à partir des données, mais doivent être définis avant l'entraînement."
   ]
  },
  {
   "cell_type": "markdown",
   "id": "295ffecf-1ba9-4d16-a32d-801650cfbdcf",
   "metadata": {},
   "source": [
    "## La cross-validation\n",
    "La cross-validation évalue la performance du modèle en le formant sur différentes parties du jeu de données et le testant sur d'autres parties."
   ]
  },
  {
   "cell_type": "markdown",
   "id": "5dc53285-5037-40e5-9e61-9847b63ff6a0",
   "metadata": {},
   "source": [
    "## GridSearchCV\n",
    "GridSearchCV est une technique pour rechercher les meilleurs hyperparamètres en évaluant le modèle sur une grille de combinaisons."
   ]
  },
  {
   "cell_type": "markdown",
   "id": "e4a2fbc8-8425-405b-8580-39edb2b6af2c",
   "metadata": {},
   "source": [
    "## Exemple d'application simple : Régression linéaire"
   ]
  },
  {
   "cell_type": "code",
   "execution_count": 5,
   "id": "81acb495-2e64-423b-b199-21869d2d31c5",
   "metadata": {},
   "outputs": [
    {
     "name": "stdout",
     "output_type": "stream",
     "text": [
      "Accuracy: 1.0\n",
      "Cross-Validation Scores: [0.96666667 1.         0.96666667 0.96666667 1.        ]\n",
      "Best Hyperparameters: {'C': 1, 'kernel': 'linear'}\n"
     ]
    }
   ],
   "source": [
    "# Import des bibliothèques nécessaires\n",
    "from sklearn import datasets\n",
    "from sklearn.model_selection import train_test_split\n",
    "from sklearn.svm import SVC\n",
    "from sklearn.metrics import accuracy_score\n",
    "from sklearn.preprocessing import StandardScaler\n",
    "from sklearn.model_selection import cross_val_score, GridSearchCV\n",
    "\n",
    "# Chargement du jeu de données Iris\n",
    "iris = datasets.load_iris()\n",
    "X = iris.data\n",
    "y = iris.target\n",
    "\n",
    "# Division des données en jeu d'entraînement et jeu de test\n",
    "X_train, X_test, y_train, y_test = train_test_split(X, y, test_size=0.2, random_state=42)\n",
    "\n",
    "# ----------------------------------------\n",
    "# Classification\n",
    "# ----------------------------------------\n",
    "# Utilisation d'un SVM pour la classification\n",
    "classifier = SVC(kernel='linear', C=1)  # Utilisation d'un noyau linéaire et d'un paramètre de régularisation C\n",
    "\n",
    "# Entraînement du modèle\n",
    "classifier.fit(X_train, y_train)\n",
    "\n",
    "# Prédiction sur le jeu de test\n",
    "y_pred = classifier.predict(X_test)\n",
    "\n",
    "# Calcul de la performance du modèle (précision ici)\n",
    "accuracy = accuracy_score(y_test, y_pred)\n",
    "print(f'Accuracy: {accuracy}')\n",
    "\n",
    "# ----------------------------------------\n",
    "# Utilisation de la cross-validation pour évaluer la performance du modèle\n",
    "# ----------------------------------------\n",
    "cv_scores = cross_val_score(classifier, X, y, scoring='accuracy', cv=5)\n",
    "print(f'Cross-Validation Scores: {cv_scores}')\n",
    "\n",
    "# ----------------------------------------\n",
    "# Utilisation de GridSearchCV pour trouver les meilleurs hyperparamètres\n",
    "# ----------------------------------------\n",
    "param_grid = {'C': [0.1, 1, 10], 'kernel': ['linear', 'rbf']}\n",
    "grid_search = GridSearchCV(classifier, param_grid, scoring='accuracy', cv=5)\n",
    "grid_search.fit(X, y)\n",
    "\n",
    "# Meilleurs hyperparamètres trouvés\n",
    "best_params = grid_search.best_params_\n",
    "print(f'Best Hyperparameters: {best_params}')"
   ]
  },
  {
   "cell_type": "code",
   "execution_count": 6,
   "id": "2ab2dc3e-89b8-407e-bd41-fa5caa9d1c75",
   "metadata": {},
   "outputs": [],
   "source": [
    "# PS : Une accuracy de 1.0 n'est pas possible en réalité car cela representerait le modele parfait. \n",
    "# L'objectif reste néanmoins de se rapprocher de 1"
   ]
  },
  {
   "cell_type": "code",
   "execution_count": null,
   "id": "c763df57-ba01-49a6-9287-c2f79a17bcd5",
   "metadata": {},
   "outputs": [],
   "source": []
  }
 ],
 "metadata": {
  "kernelspec": {
   "display_name": "Python 3 (ipykernel)",
   "language": "python",
   "name": "python3"
  },
  "language_info": {
   "codemirror_mode": {
    "name": "ipython",
    "version": 3
   },
   "file_extension": ".py",
   "mimetype": "text/x-python",
   "name": "python",
   "nbconvert_exporter": "python",
   "pygments_lexer": "ipython3",
   "version": "3.11.3"
  }
 },
 "nbformat": 4,
 "nbformat_minor": 5
}
